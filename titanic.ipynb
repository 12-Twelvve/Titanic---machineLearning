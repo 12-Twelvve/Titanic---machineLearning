{
 "cells": [
  {
   "cell_type": "code",
   "execution_count": 1,
   "id": "768ec652",
   "metadata": {},
   "outputs": [],
   "source": [
    "import pandas as pd\n",
    "\n",
    "# loading train data\n",
    "def load_data(filename):\n",
    "    return pd.read_csv(filename)\n",
    "\n",
    "train_data = load_data(\"train.csv\")"
   ]
  },
  {
   "cell_type": "code",
   "execution_count": 2,
   "id": "2f9c7341",
   "metadata": {},
   "outputs": [],
   "source": [
    "# train_data.Sex.describe()"
   ]
  },
  {
   "cell_type": "code",
   "execution_count": 3,
   "id": "575dca17",
   "metadata": {},
   "outputs": [],
   "source": [
    "# ages\n",
    "# bins = [0, 10, 18, 30, 40, 50, 60, 70, 100]\n",
    "# labels = [\"0\", \"10\", \"18\", \"30\", \"40\", \"50\", \"60\", \"70\"]\n",
    "# train_data[\"ages_range\"] = pd.cut(train_data.Age, bins,\n",
    "#                                   labels= labels,\n",
    "#                                   include_lowest = True)"
   ]
  },
  {
   "cell_type": "code",
   "execution_count": 4,
   "id": "2ebd2865",
   "metadata": {},
   "outputs": [],
   "source": [
    "# feature modification\n",
    "#  family numbers  - spouse + patch\n",
    "# train_data[\"family_members\"]= train_data[\"SibSp\"] + train_data[\"Parch\"]"
   ]
  },
  {
   "cell_type": "code",
   "execution_count": 5,
   "id": "be11f8e3",
   "metadata": {},
   "outputs": [],
   "source": [
    "# categories the fare "
   ]
  },
  {
   "cell_type": "code",
   "execution_count": 6,
   "id": "d37fb738",
   "metadata": {},
   "outputs": [],
   "source": [
    "def add_features(data):\n",
    "#     ages -ranges\n",
    "    bins = [0, 10, 18, 30, 40, 50, 60, 70, 100]\n",
    "    labels = [\"0\", \"10\", \"18\", \"30\", \"40\", \"50\", \"60\", \"70\"]\n",
    "    data[\"ages_range\"] = pd.cut(data.Age, bins,\n",
    "                                  labels= labels,\n",
    "                                  include_lowest = True)\n",
    "#     family members    \n",
    "    data[\"family_members\"]= data[\"SibSp\"] + data[\"Parch\"]  \n",
    "    \n",
    "#     fare categories.    \n",
    "    f_bins = [0, 10, 20, 30, 40, 50, 75, 100, 150, 200, 300, 400, 500, 600]\n",
    "    f_labels = ['a', 'b', 'c', 'd', 'e', 'f', 'g', 'h', 'i', 'j', 'k', 'l', 'm' ]\n",
    "\n",
    "    data['fare_cat'] = pd.cut(data.Fare,f_bins,\n",
    "                                 labels = f_labels,\n",
    "                                 include_lowest= True)\n",
    "    return data"
   ]
  },
  {
   "cell_type": "code",
   "execution_count": null,
   "id": "6a56d515",
   "metadata": {},
   "outputs": [],
   "source": [
    "# train_data = add_features(train_data)"
   ]
  },
  {
   "cell_type": "code",
   "execution_count": 7,
   "id": "45beb137",
   "metadata": {},
   "outputs": [],
   "source": [
    "from sklearn.pipeline import Pipeline\n",
    "from sklearn.impute import SimpleImputer\n",
    "from sklearn.preprocessing import StandardScaler"
   ]
  },
  {
   "cell_type": "code",
   "execution_count": 8,
   "id": "b5cbdf18",
   "metadata": {},
   "outputs": [],
   "source": [
    "# build the pipeline for the numerical attributes\n",
    "num_pipeline = Pipeline([\n",
    "    (\"imputer\", SimpleImputer(strategy= \"median\")),\n",
    "    (\"scaler\", StandardScaler())\n",
    "])"
   ]
  },
  {
   "cell_type": "code",
   "execution_count": 9,
   "id": "440865ee",
   "metadata": {},
   "outputs": [],
   "source": [
    "# build the pipeline for the categorical attributes\n",
    "from sklearn.preprocessing import OneHotEncoder\n",
    "cat_pipeline = Pipeline([\n",
    "    (\"imputer\", SimpleImputer(strategy=\"most_frequent\")),\n",
    "    (\"cat_encoder\", OneHotEncoder(sparse=False))\n",
    "])"
   ]
  },
  {
   "cell_type": "code",
   "execution_count": 10,
   "id": "a26cf65d",
   "metadata": {},
   "outputs": [],
   "source": [
    "# joining them both\n",
    "from sklearn.compose import ColumnTransformer\n",
    "num_attribs = [\"Age\", \"SibSp\", \"Parch\", \"Fare\", \"family_members\"]\n",
    "cat_attribs = [\"Pclass\", \"Sex\", \"Embarked\", \"ages_range\", \"fare_cat\"]\n",
    "\n",
    "preprocess_pipeline = ColumnTransformer([\n",
    "    (\"num\", num_pipeline, num_attribs),\n",
    "    (\"cat\", cat_pipeline, cat_attribs)\n",
    "])"
   ]
  },
  {
   "cell_type": "code",
   "execution_count": 11,
   "id": "410e90c7",
   "metadata": {},
   "outputs": [],
   "source": [
    "# raw data to numerical input features .\n",
    "X_train = preprocess_pipeline.fit_transform(\n",
    "    train_data[num_attribs + cat_attribs]\n",
    "    )\n",
    "# output to arrays"
   ]
  },
  {
   "cell_type": "code",
   "execution_count": 12,
   "id": "8952c6f4",
   "metadata": {},
   "outputs": [],
   "source": [
    "y_train = train_data[\"Survived\"]"
   ]
  },
  {
   "cell_type": "code",
   "execution_count": null,
   "id": "088b3aa8",
   "metadata": {},
   "outputs": [],
   "source": []
  },
  {
   "cell_type": "code",
   "execution_count": null,
   "id": "c1a95914",
   "metadata": {},
   "outputs": [],
   "source": []
  },
  {
   "cell_type": "code",
   "execution_count": 13,
   "id": "d239ca40",
   "metadata": {},
   "outputs": [],
   "source": [
    "# let use svm \n",
    "from sklearn.svm import SVC\n",
    "\n",
    "svm_clf = SVC(gamma =\"auto\")\n",
    "# svm_scores = cross_val_score(svm_clf, X_train, y_train , cv = 3)\n",
    "# svm_scores.mean()"
   ]
  },
  {
   "cell_type": "code",
   "execution_count": 14,
   "id": "42561727",
   "metadata": {},
   "outputs": [],
   "source": [
    "from sklearn.model_selection import cross_val_score"
   ]
  },
  {
   "cell_type": "code",
   "execution_count": 15,
   "id": "a9b05715",
   "metadata": {},
   "outputs": [
    {
     "data": {
      "text/plain": [
       "0.819304152637486"
      ]
     },
     "execution_count": 15,
     "metadata": {},
     "output_type": "execute_result"
    }
   ],
   "source": [
    "svm_scores = cross_val_score(svm_clf, X_train, y_train , cv = 3)\n",
    "svm_scores.mean()"
   ]
  },
  {
   "cell_type": "code",
   "execution_count": null,
   "id": "b7fdda60",
   "metadata": {},
   "outputs": [],
   "source": []
  },
  {
   "cell_type": "code",
   "execution_count": 16,
   "id": "e62857c3",
   "metadata": {},
   "outputs": [
    {
     "data": {
      "text/plain": [
       "SVC(gamma='auto')"
      ]
     },
     "execution_count": 16,
     "metadata": {},
     "output_type": "execute_result"
    }
   ],
   "source": [
    "svm_clf.fit(X_train, y_train)"
   ]
  },
  {
   "cell_type": "code",
   "execution_count": 17,
   "id": "a50b0177",
   "metadata": {},
   "outputs": [],
   "source": [
    "# now test the test data..\n",
    "test_data = load_data(\"test.csv\")\n"
   ]
  },
  {
   "cell_type": "code",
   "execution_count": 18,
   "id": "cc24248b",
   "metadata": {},
   "outputs": [],
   "source": [
    "testid = test_data[\"PassengerId\"]"
   ]
  },
  {
   "cell_type": "code",
   "execution_count": 19,
   "id": "9b73b5f6",
   "metadata": {},
   "outputs": [],
   "source": [
    "test_data = add_features(test_data)"
   ]
  },
  {
   "cell_type": "code",
   "execution_count": 20,
   "id": "eca052d1",
   "metadata": {},
   "outputs": [],
   "source": [
    "X_test = preprocess_pipeline.fit_transform(\n",
    "    test_data[num_attribs + cat_attribs])"
   ]
  },
  {
   "cell_type": "code",
   "execution_count": 21,
   "id": "3bb22dd5",
   "metadata": {},
   "outputs": [],
   "source": [
    "svm_predics = svm_clf.predict(X_test)"
   ]
  },
  {
   "cell_type": "code",
   "execution_count": 22,
   "id": "cd0c4ec0",
   "metadata": {},
   "outputs": [],
   "source": [
    "svm_df = pd.DataFrame({\"PassengerId\":testid.values,\n",
    "                   \"Survived\": svm_predics,\n",
    "                  }\n",
    "                 )"
   ]
  },
  {
   "cell_type": "code",
   "execution_count": 23,
   "id": "0a93acae",
   "metadata": {},
   "outputs": [],
   "source": [
    "svm_df.to_csv(\"svm_submission_check.csv\", index = False)"
   ]
  },
  {
   "cell_type": "code",
   "execution_count": null,
   "id": "0345021b",
   "metadata": {},
   "outputs": [],
   "source": []
  }
 ],
 "metadata": {
  "kernelspec": {
   "display_name": "Python 3",
   "language": "python",
   "name": "python3"
  },
  "language_info": {
   "codemirror_mode": {
    "name": "ipython",
    "version": 3
   },
   "file_extension": ".py",
   "mimetype": "text/x-python",
   "name": "python",
   "nbconvert_exporter": "python",
   "pygments_lexer": "ipython3",
   "version": "3.8.8"
  }
 },
 "nbformat": 4,
 "nbformat_minor": 5
}
