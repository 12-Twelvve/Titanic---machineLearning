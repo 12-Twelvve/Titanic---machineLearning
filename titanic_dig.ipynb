{
 "cells": [
  {
   "cell_type": "code",
   "execution_count": 14,
   "id": "f7519898",
   "metadata": {},
   "outputs": [],
   "source": [
    "import pandas as pd\n",
    "\n",
    "# loading train data\n",
    "def load_data(filename):\n",
    "    return pd.read_csv(filename)\n",
    "\n",
    "train_data = load_data(\"train.csv\") \n",
    "test_data = load_data(\"test.csv\") \n"
   ]
  },
  {
   "cell_type": "code",
   "execution_count": null,
   "id": "f05c32b8",
   "metadata": {},
   "outputs": [],
   "source": []
  },
  {
   "cell_type": "markdown",
   "id": "b096a108",
   "metadata": {},
   "source": [
    "data visualizing"
   ]
  },
  {
   "cell_type": "code",
   "execution_count": 7,
   "id": "9a891b37",
   "metadata": {},
   "outputs": [
    {
     "data": {
      "text/plain": [
       "'female'"
      ]
     },
     "execution_count": 7,
     "metadata": {},
     "output_type": "execute_result"
    }
   ],
   "source": [
    "# train_data.Sex\n",
    "train_data.Sex[1]"
   ]
  },
  {
   "cell_type": "code",
   "execution_count": null,
   "id": "31569298",
   "metadata": {},
   "outputs": [],
   "source": []
  },
  {
   "cell_type": "markdown",
   "id": "73b45d3c",
   "metadata": {},
   "source": [
    "feature engineering"
   ]
  },
  {
   "cell_type": "code",
   "execution_count": 16,
   "id": "67610c03",
   "metadata": {},
   "outputs": [],
   "source": [
    "# embarked \n",
    "train_data[\"Embarked\"].fillna(value='S', inplace=True)\n",
    "test_data['Fare'].fillna(value=train_data.Fare.mean(), inplace=True)"
   ]
  },
  {
   "cell_type": "code",
   "execution_count": 10,
   "id": "76c05bc5",
   "metadata": {},
   "outputs": [],
   "source": [
    "# age\n",
    "mean_age_miss = round(train_data[train_data[\"Name\"].str.contains(\"Miss.\",na=False)]['Age'].mean())\n",
    "mean_age_mrs = round(train_data[train_data[\"Name\"].str.contains(\"Mrs.\",na=False)]['Age'].mean())\n",
    "mean_age_mr = round(train_data[train_data[\"Name\"].str.contains(\"Mr.\",na=False)]['Age'].mean())\n",
    "mean_age_master = round(train_data[train_data[\"Name\"].str.contains(\"Master.\",na=False)]['Age'].mean())"
   ]
  },
  {
   "cell_type": "code",
   "execution_count": 11,
   "id": "440c913f",
   "metadata": {},
   "outputs": [],
   "source": [
    "def fill_age(name_age):\n",
    "    name= name_age[0]\n",
    "    age = name_age[1]\n",
    "    \n",
    "    if pd.isnull(age):\n",
    "        if \"Mr.\" in name:\n",
    "            return mean_age_mrs\n",
    "        if \"Mrs.\" in name:\n",
    "            return mean_age_mrs\n",
    "        if \"Miss.\" in name:\n",
    "            return mean_age_miss\n",
    "        if \"Master.\" in name:\n",
    "            return mean_age_master\n",
    "        if \"Dr.\" in name:\n",
    "            return mean_age_master\n",
    "        if \"Ms.\" in name:\n",
    "            return mean_age_miss\n",
    "    else:\n",
    "        return age\n",
    "    "
   ]
  },
  {
   "cell_type": "code",
   "execution_count": 17,
   "id": "b73847be",
   "metadata": {},
   "outputs": [],
   "source": [
    "train_data[\"Age\"] = train_data[[\"Name\", \"Age\"]].apply(fill_age, axis= 1)\n",
    "test_data[\"Age\"] = train_data[[\"Name\", \"Age\"]].apply(fill_age, axis= 1)"
   ]
  },
  {
   "cell_type": "code",
   "execution_count": 20,
   "id": "297c4bd8",
   "metadata": {},
   "outputs": [],
   "source": [
    "# <!-- new feature  -->\n",
    "import numpy as np\n",
    "\n",
    "bins =[0, 20, 40, np.inf]\n",
    "names = [\"20-\", \"20-40\", \"40+\"]\n",
    "train_data[\"AgeRange\"] = pd.cut(train_data.Age, bins, labels=names)\n",
    "test_data[\"AgeRange\"] = pd.cut(test_data.Age, bins, labels=names)"
   ]
  },
  {
   "cell_type": "code",
   "execution_count": 28,
   "id": "2f52e824",
   "metadata": {},
   "outputs": [],
   "source": [
    "# new feature deck and room\n",
    "def deck_room(data):\n",
    "    data[\"Deck\"] = data[\"Cabin\"].str.slice(0, 1)\n",
    "    data[\"Room\"] = data[\"Cabin\"].str.slice(1, 5).str.extract(\"([0-9]+)\",\n",
    "                                                            expand=False, \n",
    "                                                           ).astype(\"float\")\n",
    "    data[\"Deck\"] = data[\"Deck\"].fillna(\"N\")\n",
    "    data[\"Room\"] = data[\"Room\"].fillna(data[\"Room\"].mean())\n",
    "    return data"
   ]
  },
  {
   "cell_type": "code",
   "execution_count": 29,
   "id": "3aa8e297",
   "metadata": {},
   "outputs": [],
   "source": [
    "train_data = deck_room(train_data)\n",
    "test_data = deck_room(test_data)"
   ]
  },
  {
   "cell_type": "code",
   "execution_count": 30,
   "id": "9bf79362",
   "metadata": {},
   "outputs": [],
   "source": [
    "# family size \n",
    "def family_size(data):\n",
    "    data[\"Family_size\"] = data[\"SibSp\"] + data[\"Parch\"] + 1\n",
    "    return data\n",
    "train_data = family_size(train_data)\n",
    "test_data = family_size(test_data)"
   ]
  },
  {
   "cell_type": "code",
   "execution_count": 32,
   "id": "84b8a1ef",
   "metadata": {},
   "outputs": [],
   "source": [
    "def create_alone_feature(sibpch):\n",
    "    if(sibpch[0]+sibpch[1]) == 0:\n",
    "        return 1\n",
    "    else:\n",
    "        return 0"
   ]
  },
  {
   "cell_type": "code",
   "execution_count": 34,
   "id": "e8645c9c",
   "metadata": {},
   "outputs": [],
   "source": [
    "# new feature alone\n",
    "train_data[\"Alone\"] = train_data[[\"SibSp\", \"Parch\"]].apply(create_alone_feature, axis = 1)\n",
    "train_data[\"Alone\"] = test_data[[\"SibSp\", \"Parch\"]].apply(create_alone_feature, axis = 1)"
   ]
  },
  {
   "cell_type": "markdown",
   "id": "dc64426d",
   "metadata": {},
   "source": [
    "feature correlation"
   ]
  },
  {
   "cell_type": "code",
   "execution_count": 36,
   "id": "b463062c",
   "metadata": {},
   "outputs": [],
   "source": [
    "df  = train_data"
   ]
  },
  {
   "cell_type": "code",
   "execution_count": 38,
   "id": "17ae07cf",
   "metadata": {},
   "outputs": [],
   "source": [
    "import seaborn as sns\n",
    "import matplotlib.pyplot as plt"
   ]
  },
  {
   "cell_type": "code",
   "execution_count": 40,
   "id": "b7817db0",
   "metadata": {},
   "outputs": [],
   "source": [
    "# corr_matrix = df.corr()\n",
    "# cmap = sns.diverging_palette(230, 20, as_cmap = True)\n",
    "# sns.heatmap(corr_matrix, annot=None, cmap = cmap)"
   ]
  },
  {
   "cell_type": "markdown",
   "id": "c2ce5bf0",
   "metadata": {},
   "source": [
    "final feature engineering"
   ]
  },
  {
   "cell_type": "code",
   "execution_count": 41,
   "id": "5dcd81db",
   "metadata": {},
   "outputs": [],
   "source": [
    "features = [\"Pclass\", \"Sex\", \"Family_size\", \"Embarked\", \"Fare\",\n",
    "            \"Age\", \"AgeRange\",]\n",
    "label = \"Survived\""
   ]
  },
  {
   "cell_type": "code",
   "execution_count": 44,
   "id": "462d61fd",
   "metadata": {},
   "outputs": [],
   "source": [
    "# test_data[features].head()"
   ]
  },
  {
   "cell_type": "code",
   "execution_count": 45,
   "id": "e8666bf9",
   "metadata": {},
   "outputs": [],
   "source": [
    "# sex categories\n",
    "train_data[\"Sex\"] = train_data[\"Sex\"].map({\"female\":1, \"male\":2})\n",
    "test_data[\"Sex\"] = test_data[\"Sex\"].map({\"female\":1, \"male\":2})"
   ]
  },
  {
   "cell_type": "code",
   "execution_count": 46,
   "id": "156d7189",
   "metadata": {},
   "outputs": [],
   "source": [
    "# Embarked Categories\n",
    "categories ={ \"S\":1, \"C\": 2, \"Q\":3}\n",
    "train_data[\"Embarked\"] = train_data[\"Embarked\"].map(categories)\n",
    "test_data[\"Embarked\"] = test_data[\"Embarked\"].map(categories)"
   ]
  },
  {
   "cell_type": "code",
   "execution_count": 47,
   "id": "5c996a68",
   "metadata": {},
   "outputs": [],
   "source": [
    "# deck categories\n",
    "d_categories = {\"C\":1, \"B\":2, \"D\":3, \"E\":4, \"A\":5}\n",
    "train_data[\"Deck\"] = train_data[\"Deck\"].map(d_categories)\n",
    "test_data[\"Deck\"] = test_data[\"Deck\"].map(d_categories)"
   ]
  },
  {
   "cell_type": "code",
   "execution_count": 48,
   "id": "8f00baf3",
   "metadata": {},
   "outputs": [],
   "source": [
    "# AgeRange\n",
    "ar_categories = {\"20-\":1, \"20-40\":2, \"40+\":3}\n",
    "train_data[\"AgeRange\"] = train_data[\"AgeRange\"].map(ar_categories)\n",
    "test_data[\"AgeRange\"] = test_data[\"AgeRange\"].map(ar_categories)\n"
   ]
  },
  {
   "cell_type": "code",
   "execution_count": 49,
   "id": "fc5d9fe5",
   "metadata": {},
   "outputs": [],
   "source": [
    "from sklearn.model_selection import train_test_split\n",
    "\n",
    "X, y = train_data[features], train_data[label].values\n",
    "# spliting 30 -70\n",
    "X_train , X_test, y_train, y_test = train_test_split(X, y, \n",
    "                                                     test_size= 0.30, \n",
    "                                                      random_state= 0)"
   ]
  },
  {
   "cell_type": "code",
   "execution_count": 50,
   "id": "c2933bb0",
   "metadata": {},
   "outputs": [],
   "source": [
    "from sklearn.preprocessing import StandardScaler\n",
    "from sklearn.metrics import accuracy_score\n",
    "from sklearn.metrics import confusion_matrix\n",
    "from sklearn.metrics import classification_report\n",
    "from sklearn.model_selection import cross_val_score"
   ]
  },
  {
   "cell_type": "code",
   "execution_count": 52,
   "id": "23d7d138",
   "metadata": {},
   "outputs": [],
   "source": [
    "# scaling\n",
    "sc = StandardScaler()\n",
    "X_train = sc.fit_transform(X_train)\n",
    "X_test  = sc.fit_transform(X_test)\n",
    "X_eval = sc.fit_transform(test_data[features])"
   ]
  },
  {
   "cell_type": "code",
   "execution_count": 88,
   "id": "a9c8b795",
   "metadata": {},
   "outputs": [
    {
     "data": {
      "text/plain": [
       "array([[-1.5325562 ,  0.72592065, -0.54860377, -0.55270799, -0.12253019,\n",
       "         1.53767522,  1.69612763],\n",
       "       [-1.5325562 , -1.37756104,  0.04476454,  1.01246055,  0.91812372,\n",
       "         1.38864996,  1.69612763],\n",
       "       [ 0.84844757,  0.72592065,  3.60497445, -0.55270799,  0.29950338,\n",
       "        -2.18795642, -1.60602085],\n",
       "       [-1.5325562 ,  0.72592065,  0.04476454, -0.55270799,  0.92970216,\n",
       "         1.76121312,  1.69612763],\n",
       "       [ 0.84844757, -1.37756104,  0.04476454,  1.01246055, -0.37329694,\n",
       "         0.41998573,  0.04505339],\n",
       "       [-0.34205431,  0.72592065,  0.63813286, -0.55270799,  0.08900506,\n",
       "        -1.66636799, -1.60602085],\n",
       "       [-1.5325562 ,  0.72592065,  0.04476454,  1.01246055,  4.4601281 ,\n",
       "        -0.47416586,  0.04505339],\n",
       "       [ 0.84844757,  0.72592065, -0.54860377, -0.55270799, -0.50619708,\n",
       "        -0.7722164 , -1.60602085],\n",
       "       [ 0.84844757,  0.72592065, -0.54860377, -0.55270799, -0.50619708,\n",
       "        -0.02709007,  0.04505339],\n",
       "       [ 0.84844757,  0.72592065, -0.54860377, -0.55270799, -0.52503408,\n",
       "        -0.47416586,  0.04505339]])"
      ]
     },
     "execution_count": 88,
     "metadata": {},
     "output_type": "execute_result"
    }
   ],
   "source": [
    "X_train[:10]"
   ]
  },
  {
   "cell_type": "markdown",
   "id": "549b4952",
   "metadata": {},
   "source": [
    "fit models"
   ]
  },
  {
   "cell_type": "markdown",
   "id": "254a7c90",
   "metadata": {},
   "source": [
    "# random forest classifier"
   ]
  },
  {
   "cell_type": "code",
   "execution_count": null,
   "id": "d93923de",
   "metadata": {},
   "outputs": [],
   "source": []
  },
  {
   "cell_type": "code",
   "execution_count": 79,
   "id": "7a283449",
   "metadata": {},
   "outputs": [],
   "source": [
    "from sklearn.ensemble import RandomForestClassifier\n",
    "forest_clf = RandomForestClassifier(n_estimators= 100, max_depth= 4,\n",
    "                                    random_state=0)\n",
    "forest_clf = forest_clf.fit(X_train, y_train)"
   ]
  },
  {
   "cell_type": "code",
   "execution_count": 81,
   "id": "1a56c13c",
   "metadata": {},
   "outputs": [
    {
     "name": "stdout",
     "output_type": "stream",
     "text": [
      "train score  0.8459069020866774\n",
      "test score  0.8097014925373134\n",
      "              precision    recall  f1-score   support\n",
      "\n",
      "           0       0.84      0.86      0.85       168\n",
      "           1       0.76      0.72      0.74       100\n",
      "\n",
      "    accuracy                           0.81       268\n",
      "   macro avg       0.80      0.79      0.79       268\n",
      "weighted avg       0.81      0.81      0.81       268\n",
      "\n"
     ]
    }
   ],
   "source": [
    "# score \n",
    "predictions_train = forest_clf.predict(X_train)\n",
    "predictions_test = forest_clf.predict(X_test)\n",
    "print(\"train score \", accuracy_score(y_train, predictions_train))\n",
    "print(\"test score \", accuracy_score(y_test, predictions_test))\n",
    "print(classification_report(y_test, predictions_test ))"
   ]
  },
  {
   "cell_type": "code",
   "execution_count": 82,
   "id": "989f9072",
   "metadata": {},
   "outputs": [],
   "source": [
    "# predictions\n",
    "forest_predictions = forest_clf.predict(X_eval)"
   ]
  },
  {
   "cell_type": "code",
   "execution_count": 85,
   "id": "b55c670f",
   "metadata": {},
   "outputs": [],
   "source": [
    "output = pd.DataFrame({'PassengerId': test_data.PassengerId, 'Survived': forest_predictions})\n",
    "output.to_csv(\"forest_mission.csv\", index= False )"
   ]
  },
  {
   "cell_type": "code",
   "execution_count": null,
   "id": "3172a5fd",
   "metadata": {},
   "outputs": [],
   "source": [
    "# .7707"
   ]
  },
  {
   "cell_type": "markdown",
   "id": "c410d1fa",
   "metadata": {},
   "source": [
    "# Decision tree classifier"
   ]
  },
  {
   "cell_type": "code",
   "execution_count": 57,
   "id": "3b3f6217",
   "metadata": {},
   "outputs": [],
   "source": [
    "from sklearn.tree import DecisionTreeClassifier\n",
    "dt_clf = DecisionTreeClassifier()\n",
    "dt_clf = dt_clf.fit(X_train, y_train)"
   ]
  },
  {
   "cell_type": "code",
   "execution_count": 86,
   "id": "e47cc304",
   "metadata": {},
   "outputs": [
    {
     "name": "stdout",
     "output_type": "stream",
     "text": [
      "train score  0.9775280898876404\n",
      "test score  0.7873134328358209\n",
      "              precision    recall  f1-score   support\n",
      "\n",
      "           0       0.81      0.86      0.84       168\n",
      "           1       0.74      0.66      0.70       100\n",
      "\n",
      "    accuracy                           0.79       268\n",
      "   macro avg       0.78      0.76      0.77       268\n",
      "weighted avg       0.78      0.79      0.78       268\n",
      "\n"
     ]
    }
   ],
   "source": [
    "predictions_train = dt_clf.predict(X_train)\n",
    "predictions_test = dt_clf.predict(X_test)\n",
    "print(\"train score \", accuracy_score(y_train, predictions_train))\n",
    "print(\"test score \", accuracy_score(y_test, predictions_test))\n",
    "print(classification_report(y_test, predictions_test ))"
   ]
  },
  {
   "cell_type": "code",
   "execution_count": 87,
   "id": "f7c12ad7",
   "metadata": {},
   "outputs": [],
   "source": [
    "# predictions\n",
    "dt_predict = dt_clf.predict(X_eval)\n",
    "# output\n",
    "output = pd.DataFrame({'PassengerId': test_data.PassengerId, 'Survived': dt_predict})\n",
    "output.to_csv(\"dt_mission.csv\", index= False )\n"
   ]
  },
  {
   "cell_type": "code",
   "execution_count": null,
   "id": "03edfb1e",
   "metadata": {},
   "outputs": [],
   "source": [
    "# 0.703"
   ]
  },
  {
   "cell_type": "markdown",
   "id": "aa8a921f",
   "metadata": {},
   "source": [
    "# SVC"
   ]
  },
  {
   "cell_type": "code",
   "execution_count": 75,
   "id": "09f0444b",
   "metadata": {},
   "outputs": [],
   "source": [
    "from sklearn.svm import SVC\n",
    "svc_clf = SVC()\n",
    "svc_clf = svc_clf.fit(X_train, y_train)"
   ]
  },
  {
   "cell_type": "code",
   "execution_count": 76,
   "id": "91d27b57",
   "metadata": {},
   "outputs": [
    {
     "name": "stdout",
     "output_type": "stream",
     "text": [
      "train score  0.8459069020866774\n",
      "test score  0.8059701492537313\n",
      "              precision    recall  f1-score   support\n",
      "\n",
      "           0       0.83      0.88      0.85       168\n",
      "           1       0.77      0.69      0.73       100\n",
      "\n",
      "    accuracy                           0.81       268\n",
      "   macro avg       0.80      0.78      0.79       268\n",
      "weighted avg       0.80      0.81      0.80       268\n",
      "\n"
     ]
    }
   ],
   "source": [
    "# score\n",
    "predictions_train = svc_clf.predict(X_train)\n",
    "predictions_test = svc_clf.predict(X_test)\n",
    "print(\"train score \", accuracy_score(y_train, predictions_train))\n",
    "print(\"test score \", accuracy_score(y_test, predictions_test))\n",
    "print(classification_report(y_test, predictions_test ))"
   ]
  },
  {
   "cell_type": "code",
   "execution_count": 77,
   "id": "4928bc2b",
   "metadata": {},
   "outputs": [],
   "source": [
    "# predictions\n",
    "svc_predicts = svc_clf.predict(X_eval)"
   ]
  },
  {
   "cell_type": "code",
   "execution_count": 83,
   "id": "118ef803",
   "metadata": {},
   "outputs": [],
   "source": [
    "output = pd.DataFrame({'PassengerId': test_data.PassengerId, 'Survived': svc_predicts})\n",
    "output.to_csv(\"svc_mission.csv\", index= False )"
   ]
  },
  {
   "cell_type": "code",
   "execution_count": null,
   "id": "cc044833",
   "metadata": {},
   "outputs": [],
   "source": [
    "#.7631"
   ]
  },
  {
   "cell_type": "markdown",
   "id": "ba182540",
   "metadata": {},
   "source": [
    "# Gradient Boosting Classifier"
   ]
  },
  {
   "cell_type": "code",
   "execution_count": 62,
   "id": "f247a495",
   "metadata": {},
   "outputs": [],
   "source": [
    "from sklearn.ensemble import GradientBoostingClassifier\n",
    "gb_clf = GradientBoostingClassifier(n_estimators = 100,\n",
    "                                   learning_rate=0.5,\n",
    "                                   max_depth= 3, random_state= 140)\n",
    "gb_clf = gb_clf.fit(X_train, y_train)"
   ]
  },
  {
   "cell_type": "code",
   "execution_count": 63,
   "id": "c51d9099",
   "metadata": {},
   "outputs": [
    {
     "name": "stdout",
     "output_type": "stream",
     "text": [
      "train score : 0.971107544141252\n",
      "test score : 0.8097014925373134\n"
     ]
    }
   ],
   "source": [
    "#Score\n",
    "predictions_train = gb_clf.predict(X_train)\n",
    "predictions_test = gb_clf.predict(X_test)\n",
    "print('train score :',accuracy_score(y_train ,predictions_train))\n",
    "print('test score :',accuracy_score(y_test , predictions_test))"
   ]
  },
  {
   "cell_type": "code",
   "execution_count": null,
   "id": "b37f323d",
   "metadata": {},
   "outputs": [],
   "source": [
    "# 0.72"
   ]
  },
  {
   "cell_type": "markdown",
   "id": "7ce06028",
   "metadata": {},
   "source": [
    "# logistic Regression"
   ]
  },
  {
   "cell_type": "code",
   "execution_count": 64,
   "id": "4d216bde",
   "metadata": {},
   "outputs": [],
   "source": [
    "from sklearn.linear_model import LogisticRegression\n",
    "l_reg = LogisticRegression()\n",
    "l_reg = l_reg.fit(X_train, y_train)"
   ]
  },
  {
   "cell_type": "code",
   "execution_count": 65,
   "id": "22fe6d70",
   "metadata": {},
   "outputs": [
    {
     "name": "stdout",
     "output_type": "stream",
     "text": [
      "train score : 0.7961476725521669\n",
      "test score : 0.8097014925373134\n"
     ]
    }
   ],
   "source": [
    "#Score\n",
    "predictions_train = l_reg.predict(X_train)\n",
    "predictions_test = l_reg.predict(X_test)\n",
    "print('train score :',accuracy_score(y_train ,predictions_train))\n",
    "print('test score :',accuracy_score(y_test , predictions_test))"
   ]
  },
  {
   "cell_type": "markdown",
   "id": "fc0ee06a",
   "metadata": {},
   "source": [
    "analysis the result and submit"
   ]
  },
  {
   "cell_type": "code",
   "execution_count": 66,
   "id": "f4e372d0",
   "metadata": {},
   "outputs": [
    {
     "data": {
      "text/plain": [
       "GradientBoostingClassifier(learning_rate=0.5, random_state=140)"
      ]
     },
     "execution_count": 66,
     "metadata": {},
     "output_type": "execute_result"
    }
   ],
   "source": [
    "fmodel = GradientBoostingClassifier(n_estimators=100, \n",
    "                                   learning_rate= 0.5, \n",
    "                                   max_depth= 3, \n",
    "                                   random_state= 140)\n",
    "fmodel.fit(X_train, y_train)"
   ]
  },
  {
   "cell_type": "code",
   "execution_count": 67,
   "id": "447c8cdf",
   "metadata": {},
   "outputs": [
    {
     "name": "stdout",
     "output_type": "stream",
     "text": [
      "train score : 0.971107544141252\n",
      "test score : 0.8097014925373134\n",
      "              precision    recall  f1-score   support\n",
      "\n",
      "           0       0.82      0.89      0.85       168\n",
      "           1       0.79      0.67      0.72       100\n",
      "\n",
      "    accuracy                           0.81       268\n",
      "   macro avg       0.80      0.78      0.79       268\n",
      "weighted avg       0.81      0.81      0.81       268\n",
      "\n"
     ]
    }
   ],
   "source": [
    "#Score\n",
    "predictions_train = fmodel.predict(X_train)\n",
    "predictions_test = fmodel.predict(X_test)\n",
    "print('train score :',accuracy_score(y_train ,predictions_train))\n",
    "print('test score :',accuracy_score(y_test , predictions_test))\n",
    "print(classification_report(y_test, predictions_test ))"
   ]
  },
  {
   "cell_type": "code",
   "execution_count": 68,
   "id": "95bbcb60",
   "metadata": {},
   "outputs": [],
   "source": [
    "# predicts \n",
    "predictions = fmodel.predict(X_eval)"
   ]
  },
  {
   "cell_type": "markdown",
   "id": "27b895a7",
   "metadata": {},
   "source": [
    "# output the result"
   ]
  },
  {
   "cell_type": "code",
   "execution_count": 69,
   "id": "c3ea7f67",
   "metadata": {},
   "outputs": [],
   "source": [
    "output = pd.DataFrame({'PassengerId': test_data.PassengerId, 'Survived': predictions})\n",
    "output.to_csv(\"s_mission.csv\", index= False )"
   ]
  },
  {
   "cell_type": "markdown",
   "id": "ac7e1c7c",
   "metadata": {},
   "source": [
    "# .7200 result"
   ]
  },
  {
   "cell_type": "code",
   "execution_count": null,
   "id": "55cd7610",
   "metadata": {},
   "outputs": [],
   "source": []
  }
 ],
 "metadata": {
  "kernelspec": {
   "display_name": "Python 3",
   "language": "python",
   "name": "python3"
  },
  "language_info": {
   "codemirror_mode": {
    "name": "ipython",
    "version": 3
   },
   "file_extension": ".py",
   "mimetype": "text/x-python",
   "name": "python",
   "nbconvert_exporter": "python",
   "pygments_lexer": "ipython3",
   "version": "3.8.8"
  }
 },
 "nbformat": 4,
 "nbformat_minor": 5
}
